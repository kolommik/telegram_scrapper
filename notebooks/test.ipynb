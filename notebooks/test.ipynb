{
 "cells": [
  {
   "cell_type": "code",
   "execution_count": 1,
   "metadata": {},
   "outputs": [],
   "source": [
    "import os\n",
    "from dotenv import load_dotenv\n",
    "\n",
    "env_path=\"../.env\"\n",
    "load_dotenv(dotenv_path=env_path)\n",
    "\n",
    "# Initialize the client with your API ID and hash\n",
    "api_id = int(os.environ.get('TELEGRAM_API_ID'))\n",
    "api_hash = os.environ.get('TELEGRAM_API_HASH')"
   ]
  },
  {
   "cell_type": "code",
   "execution_count": 3,
   "metadata": {},
   "outputs": [
    {
     "name": "stderr",
     "output_type": "stream",
     "text": [
      "C:\\Users\\mikha\\AppData\\Local\\Temp\\ipykernel_24288\\3774421467.py:8: RuntimeWarning: coroutine 'AuthMethods._start' was never awaited\n",
      "  client.start()\n",
      "RuntimeWarning: Enable tracemalloc to get the object allocation traceback\n"
     ]
    },
    {
     "ename": "RuntimeError",
     "evalue": "You must use \"async for\" if the event loop is running (i.e. you are inside an \"async def\")",
     "output_type": "error",
     "traceback": [
      "\u001b[1;31m---------------------------------------------------------------------------\u001b[0m",
      "\u001b[1;31mRuntimeError\u001b[0m                              Traceback (most recent call last)",
      "Cell \u001b[1;32mIn[3], line 16\u001b[0m\n\u001b[0;32m     14\u001b[0m \u001b[39m# Download the messages from the secret chat\u001b[39;00m\n\u001b[0;32m     15\u001b[0m messages \u001b[39m=\u001b[39m []\n\u001b[1;32m---> 16\u001b[0m \u001b[39mfor\u001b[39;00m message \u001b[39min\u001b[39;00m client\u001b[39m.\u001b[39miter_messages(secret_chat):\n\u001b[0;32m     17\u001b[0m     messages\u001b[39m.\u001b[39mappend(message)\n",
      "File \u001b[1;32md:\\9-GitHubR\\gh_telegram_scrapper\\.venv\\lib\\site-packages\\telethon\\requestiter.py:100\u001b[0m, in \u001b[0;36mRequestIter.__iter__\u001b[1;34m(self)\u001b[0m\n\u001b[0;32m     98\u001b[0m \u001b[39mdef\u001b[39;00m \u001b[39m__iter__\u001b[39m(\u001b[39mself\u001b[39m):\n\u001b[0;32m     99\u001b[0m     \u001b[39mif\u001b[39;00m \u001b[39mself\u001b[39m\u001b[39m.\u001b[39mclient\u001b[39m.\u001b[39mloop\u001b[39m.\u001b[39mis_running():\n\u001b[1;32m--> 100\u001b[0m         \u001b[39mraise\u001b[39;00m \u001b[39mRuntimeError\u001b[39;00m(\n\u001b[0;32m    101\u001b[0m             \u001b[39m'\u001b[39m\u001b[39mYou must use \u001b[39m\u001b[39m\"\u001b[39m\u001b[39masync for\u001b[39m\u001b[39m\"\u001b[39m\u001b[39m if the event loop \u001b[39m\u001b[39m'\u001b[39m\n\u001b[0;32m    102\u001b[0m             \u001b[39m'\u001b[39m\u001b[39mis running (i.e. you are inside an \u001b[39m\u001b[39m\"\u001b[39m\u001b[39masync def\u001b[39m\u001b[39m\"\u001b[39m\u001b[39m)\u001b[39m\u001b[39m'\u001b[39m\n\u001b[0;32m    103\u001b[0m         )\n\u001b[0;32m    105\u001b[0m     \u001b[39mreturn\u001b[39;00m \u001b[39mself\u001b[39m\u001b[39m.\u001b[39m\u001b[39m__aiter__\u001b[39m()\n",
      "\u001b[1;31mRuntimeError\u001b[0m: You must use \"async for\" if the event loop is running (i.e. you are inside an \"async def\")"
     ]
    }
   ],
   "source": [
    "# Import the required modules\n",
    "import os\n",
    "from telethon import TelegramClient\n",
    "\n",
    "client = TelegramClient('session_name', api_id, api_hash)\n",
    "\n",
    "# Connect to Telegram\n",
    "client.start()\n",
    "\n",
    "# Get the secret chat you want to download\n",
    "# The secret chat you want to download\n",
    "secret_chat = \"DiTra\" \n",
    "\n",
    "# Download the messages from the secret chat\n",
    "messages = []\n",
    "for message in client.iter_messages(secret_chat):\n",
    "    messages.append(message)"
   ]
  },
  {
   "cell_type": "code",
   "execution_count": null,
   "metadata": {},
   "outputs": [],
   "source": []
  }
 ],
 "metadata": {
  "kernelspec": {
   "display_name": ".venv",
   "language": "python",
   "name": "python3"
  },
  "language_info": {
   "codemirror_mode": {
    "name": "ipython",
    "version": 3
   },
   "file_extension": ".py",
   "mimetype": "text/x-python",
   "name": "python",
   "nbconvert_exporter": "python",
   "pygments_lexer": "ipython3",
   "version": "3.9.6"
  },
  "orig_nbformat": 4,
  "vscode": {
   "interpreter": {
    "hash": "b6c3b1515db55946d19f5b6ca71bffafbf63f13decc4f7c00afba574e15aeb36"
   }
  }
 },
 "nbformat": 4,
 "nbformat_minor": 2
}
