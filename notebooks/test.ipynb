{
 "cells": [
  {
   "cell_type": "code",
   "execution_count": 1,
   "metadata": {},
   "outputs": [
    {
     "ename": "TypeError",
     "evalue": "int() argument must be a string, a bytes-like object or a number, not 'NoneType'",
     "output_type": "error",
     "traceback": [
      "\u001b[1;31m---------------------------------------------------------------------------\u001b[0m",
      "\u001b[1;31mTypeError\u001b[0m                                 Traceback (most recent call last)",
      "Cell \u001b[1;32mIn[1], line 6\u001b[0m\n\u001b[0;32m      3\u001b[0m \u001b[39mfrom\u001b[39;00m \u001b[39mtelethon\u001b[39;00m \u001b[39mimport\u001b[39;00m TelegramClient\n\u001b[0;32m      5\u001b[0m \u001b[39m# Initialize the client with your API ID and hash\u001b[39;00m\n\u001b[1;32m----> 6\u001b[0m api_id \u001b[39m=\u001b[39m \u001b[39mint\u001b[39;49m(os\u001b[39m.\u001b[39;49menviron\u001b[39m.\u001b[39;49mget(\u001b[39m'\u001b[39;49m\u001b[39mTELEGRAM_API_ID\u001b[39;49m\u001b[39m'\u001b[39;49m))\n\u001b[0;32m      7\u001b[0m api_hash \u001b[39m=\u001b[39m os\u001b[39m.\u001b[39menviron\u001b[39m.\u001b[39mget(\u001b[39m'\u001b[39m\u001b[39mTELEGRAM_API_HASH\u001b[39m\u001b[39m'\u001b[39m)\n\u001b[0;32m      9\u001b[0m client \u001b[39m=\u001b[39m TelegramClient(\u001b[39m'\u001b[39m\u001b[39msession_name\u001b[39m\u001b[39m'\u001b[39m, api_id, api_hash)\n",
      "\u001b[1;31mTypeError\u001b[0m: int() argument must be a string, a bytes-like object or a number, not 'NoneType'"
     ]
    }
   ],
   "source": [
    "# Import the required modules\n",
    "import os\n",
    "from telethon import TelegramClient\n",
    "\n",
    "# Initialize the client with your API ID and hash\n",
    "api_id = int(os.environ.get('TELEGRAM_API_ID'))\n",
    "api_hash = os.environ.get('TELEGRAM_API_HASH')\n",
    "\n",
    "client = TelegramClient('session_name', api_id, api_hash)\n",
    "\n",
    "# Connect to Telegram\n",
    "client.start()\n",
    "\n",
    "# Get the secret chat you want to download\n",
    "# The secret chat you want to download\n",
    "secret_chat = \"DiTra\" \n",
    "\n",
    "# Download the messages from the secret chat\n",
    "messages = []\n",
    "for message in client.iter_messages(secret_chat):\n",
    "    messages.append(message)"
   ]
  },
  {
   "cell_type": "code",
   "execution_count": null,
   "metadata": {},
   "outputs": [],
   "source": []
  }
 ],
 "metadata": {
  "kernelspec": {
   "display_name": ".venv",
   "language": "python",
   "name": "python3"
  },
  "language_info": {
   "codemirror_mode": {
    "name": "ipython",
    "version": 3
   },
   "file_extension": ".py",
   "mimetype": "text/x-python",
   "name": "python",
   "nbconvert_exporter": "python",
   "pygments_lexer": "ipython3",
   "version": "3.9.6"
  },
  "orig_nbformat": 4,
  "vscode": {
   "interpreter": {
    "hash": "b6c3b1515db55946d19f5b6ca71bffafbf63f13decc4f7c00afba574e15aeb36"
   }
  }
 },
 "nbformat": 4,
 "nbformat_minor": 2
}
